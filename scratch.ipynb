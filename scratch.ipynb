{
 "cells": [
  {
   "cell_type": "code",
   "execution_count": 11,
   "metadata": {},
   "outputs": [],
   "source": [
    "import re\n",
    "from collections import Counter\n",
    "\n",
    "\n",
    "def get_words(s):\n",
    "    regex = r'\\b\\w+\\b'\n",
    "    words = re.findall(regex, s)\n",
    "    return words"
   ]
  },
  {
   "cell_type": "code",
   "execution_count": 12,
   "metadata": {},
   "outputs": [
    {
     "name": "stdout",
     "output_type": "stream",
     "text": [
      "['Hello', 'World']\n"
     ]
    }
   ],
   "source": [
    "print(get_words(\"Hello, World!\"))"
   ]
  },
  {
   "cell_type": "code",
   "execution_count": 15,
   "metadata": {},
   "outputs": [],
   "source": [
    "def count_words(list_of_words): \n",
    "    return Counter(list_of_words)\n",
    "\n",
    "def words_by_frequency(list_of_words, n=None):\n",
    "    return Counter(list_of_words).most_common(n)"
   ]
  },
  {
   "cell_type": "code",
   "execution_count": 17,
   "metadata": {},
   "outputs": [
    {
     "name": "stdout",
     "output_type": "stream",
     "text": [
      "Counter({'world': 4, 'hello': 2})\n"
     ]
    }
   ],
   "source": [
    "print (count_words([\"hello\", \"world\", \"hello\", \"world\", \"world\", \"world\"]))"
   ]
  },
  {
   "cell_type": "code",
   "execution_count": 56,
   "metadata": {},
   "outputs": [],
   "source": [
    "def is_space(s):\n",
    "   s.strip()\n",
    "   return s == \"\"\n",
    "   \n",
    "def tokenize(s, to_lower=False):\n",
    "    split_string = re.split(r'(\\W)', s)\n",
    "    for word in split_string:\n",
    "         if is_space(word):\n",
    "            split_string.remove(word)\n",
    "    if to_lower:\n",
    "       split_string = [word.lower() for word in split_string]\n",
    "\n",
    "    return split_string"
   ]
  },
  {
   "cell_type": "code",
   "execution_count": 57,
   "metadata": {},
   "outputs": [
    {
     "name": "stdout",
     "output_type": "stream",
     "text": [
      "['hello', ',', '', ' ', 'world', '!', '']\n"
     ]
    }
   ],
   "source": [
    "print(tokenize(\"Hello, World!\", True))"
   ]
  },
  {
   "cell_type": "code",
   "execution_count": null,
   "metadata": {},
   "outputs": [],
   "source": []
  }
 ],
 "metadata": {
  "kernelspec": {
   "display_name": "Python 3",
   "language": "python",
   "name": "python3"
  },
  "language_info": {
   "codemirror_mode": {
    "name": "ipython",
    "version": 3
   },
   "file_extension": ".py",
   "mimetype": "text/x-python",
   "name": "python",
   "nbconvert_exporter": "python",
   "pygments_lexer": "ipython3",
   "version": "3.12.0"
  }
 },
 "nbformat": 4,
 "nbformat_minor": 2
}
